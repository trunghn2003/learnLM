{
 "cells": [
  {
   "cell_type": "code",
   "execution_count": 4,
   "id": "a8411404-c717-4b84-a555-f08591035af4",
   "metadata": {},
   "outputs": [],
   "source": [
    "import numpy as np\n"
   ]
  },
  {
   "cell_type": "code",
   "execution_count": 8,
   "id": "111965f1-565c-408e-b5a5-6f2bd1687c34",
   "metadata": {},
   "outputs": [],
   "source": [
    "a1 = np.arange(10)\n"
   ]
  },
  {
   "cell_type": "code",
   "execution_count": 9,
   "id": "44011b64-a9bf-4896-af5b-c8f50c55cd3e",
   "metadata": {},
   "outputs": [
    {
     "name": "stdout",
     "output_type": "stream",
     "text": [
      "[0 1 2 3 4 5 6 7 8 9]\n"
     ]
    }
   ],
   "source": [
    "print(a1)"
   ]
  },
  {
   "cell_type": "code",
   "execution_count": 10,
   "id": "e2d1b715-8fbf-4e11-bba8-6ae7685bc468",
   "metadata": {},
   "outputs": [
    {
     "name": "stdout",
     "output_type": "stream",
     "text": [
      "(10,)\n"
     ]
    }
   ],
   "source": [
    "print(a1.shape)"
   ]
  },
  {
   "cell_type": "code",
   "execution_count": 11,
   "id": "5ee32e80-0c22-4a10-9306-e67c9c63147f",
   "metadata": {},
   "outputs": [
    {
     "name": "stdout",
     "output_type": "stream",
     "text": [
      "[0 2 4 6 8]\n"
     ]
    }
   ],
   "source": [
    "a2 = np.arange(0,10,2)\n",
    "print(a2)"
   ]
  },
  {
   "cell_type": "code",
   "execution_count": 12,
   "id": "4f64a768-dcee-4a70-927e-80d64c98a56b",
   "metadata": {},
   "outputs": [
    {
     "data": {
      "text/plain": [
       "array([0., 0., 0., 0.])"
      ]
     },
     "execution_count": 12,
     "metadata": {},
     "output_type": "execute_result"
    }
   ],
   "source": [
    "a3 = np.zeros(4)\n",
    "a3"
   ]
  },
  {
   "cell_type": "code",
   "execution_count": 13,
   "id": "f0051bbd-6cf2-421a-a7f1-37d1eaf6a915",
   "metadata": {},
   "outputs": [
    {
     "data": {
      "text/plain": [
       "array([[0., 0., 0.],\n",
       "       [0., 0., 0.]])"
      ]
     },
     "execution_count": 13,
     "metadata": {},
     "output_type": "execute_result"
    }
   ],
   "source": [
    "a4 = np.zeros((2,3))\n",
    "a4"
   ]
  },
  {
   "cell_type": "code",
   "execution_count": 14,
   "id": "55205fdb-ef5d-4ed4-9cd1-6a374f75ae66",
   "metadata": {},
   "outputs": [
    {
     "data": {
      "text/plain": [
       "(2, 3)"
      ]
     },
     "execution_count": 14,
     "metadata": {},
     "output_type": "execute_result"
    }
   ],
   "source": [
    "a4.shape"
   ]
  },
  {
   "cell_type": "code",
   "execution_count": 15,
   "id": "26d10aef-b382-44e9-a29c-8170c966d2d3",
   "metadata": {},
   "outputs": [],
   "source": [
    "a5 = np.full((2,4),8)"
   ]
  },
  {
   "cell_type": "code",
   "execution_count": 16,
   "id": "9692754d-f903-40a3-8208-d8f5c8a7b6d0",
   "metadata": {},
   "outputs": [
    {
     "data": {
      "text/plain": [
       "array([[8, 8, 8, 8],\n",
       "       [8, 8, 8, 8]])"
      ]
     },
     "execution_count": 16,
     "metadata": {},
     "output_type": "execute_result"
    }
   ],
   "source": [
    "a5"
   ]
  },
  {
   "cell_type": "code",
   "execution_count": 17,
   "id": "cc2f57a1-d3f3-46f5-899b-4101b21437b1",
   "metadata": {},
   "outputs": [],
   "source": [
    "a6 = np.eye(4)"
   ]
  },
  {
   "cell_type": "code",
   "execution_count": 19,
   "id": "453cd51d-dddd-4f80-b887-33120e16b660",
   "metadata": {},
   "outputs": [
    {
     "data": {
      "text/plain": [
       "array([[1., 0., 0., 0.],\n",
       "       [0., 1., 0., 0.],\n",
       "       [0., 0., 1., 0.],\n",
       "       [0., 0., 0., 1.]])"
      ]
     },
     "execution_count": 19,
     "metadata": {},
     "output_type": "execute_result"
    }
   ],
   "source": [
    "a6"
   ]
  },
  {
   "cell_type": "code",
   "execution_count": 22,
   "id": "54d951c7-a1e0-4575-8eab-1855d45d3a53",
   "metadata": {},
   "outputs": [
    {
     "data": {
      "text/plain": [
       "array([[0.51293148, 0.04187619, 0.18515119, 0.18771972],\n",
       "       [0.42974333, 0.52537652, 0.59154254, 0.62084146]])"
      ]
     },
     "execution_count": 22,
     "metadata": {},
     "output_type": "execute_result"
    }
   ],
   "source": [
    "a7 = np.random.random((2,4))\n",
    "a7"
   ]
  },
  {
   "cell_type": "code",
   "execution_count": 23,
   "id": "1871d209-117c-4c2b-ab97-f9284c3f1473",
   "metadata": {},
   "outputs": [
    {
     "data": {
      "text/plain": [
       "array([1, 2, 3, 4, 5])"
      ]
     },
     "execution_count": 23,
     "metadata": {},
     "output_type": "execute_result"
    }
   ],
   "source": [
    "list1 = [1,2,3,4,5]\n",
    "r1 = np.array(list1)\n",
    "r1"
   ]
  },
  {
   "cell_type": "code",
   "execution_count": 25,
   "id": "4b6cfff9-07d2-4508-b090-f2d3fb68a242",
   "metadata": {},
   "outputs": [],
   "source": [
    "list2 = [6,7,8,9,10]\n",
    "r2 = np.array([list1, list2])"
   ]
  },
  {
   "cell_type": "code",
   "execution_count": 26,
   "id": "e0cb67cf-486c-47d3-90ca-693e34f35d5f",
   "metadata": {},
   "outputs": [
    {
     "data": {
      "text/plain": [
       "array([[ 1,  2,  3,  4,  5],\n",
       "       [ 6,  7,  8,  9, 10]])"
      ]
     },
     "execution_count": 26,
     "metadata": {},
     "output_type": "execute_result"
    }
   ],
   "source": [
    "r2"
   ]
  },
  {
   "cell_type": "code",
   "execution_count": 27,
   "id": "28946424-a119-4bfb-8aa6-154d39d3b822",
   "metadata": {},
   "outputs": [
    {
     "data": {
      "text/plain": [
       "(2, 5)"
      ]
     },
     "execution_count": 27,
     "metadata": {},
     "output_type": "execute_result"
    }
   ],
   "source": [
    "r2.shape"
   ]
  },
  {
   "cell_type": "code",
   "execution_count": 28,
   "id": "5a83afee-1afc-4922-a5cf-e35221fcfaad",
   "metadata": {},
   "outputs": [
    {
     "data": {
      "text/plain": [
       "array([False, False,  True,  True,  True])"
      ]
     },
     "execution_count": 28,
     "metadata": {},
     "output_type": "execute_result"
    }
   ],
   "source": [
    "r1 > 2"
   ]
  },
  {
   "cell_type": "code",
   "execution_count": 29,
   "id": "16902a35-c4a4-413c-9b6d-f1146e02bdbb",
   "metadata": {},
   "outputs": [
    {
     "data": {
      "text/plain": [
       "array([3, 4, 5])"
      ]
     },
     "execution_count": 29,
     "metadata": {},
     "output_type": "execute_result"
    }
   ],
   "source": [
    "r1[r1>2]"
   ]
  },
  {
   "cell_type": "code",
   "execution_count": 30,
   "id": "2f04c0b2-1088-4a4b-a1e1-8b13aa31e08c",
   "metadata": {},
   "outputs": [],
   "source": [
    "nums = np.arange(20)"
   ]
  },
  {
   "cell_type": "code",
   "execution_count": 31,
   "id": "2ed26278-f69c-4fec-a33d-8d63274a0489",
   "metadata": {},
   "outputs": [
    {
     "data": {
      "text/plain": [
       "array([ 0,  1,  2,  3,  4,  5,  6,  7,  8,  9, 10, 11, 12, 13, 14, 15, 16,\n",
       "       17, 18, 19])"
      ]
     },
     "execution_count": 31,
     "metadata": {},
     "output_type": "execute_result"
    }
   ],
   "source": [
    "nums"
   ]
  },
  {
   "cell_type": "code",
   "execution_count": 32,
   "id": "b8e28cbd-d6ed-484c-9b3a-92db79bf0f0b",
   "metadata": {},
   "outputs": [],
   "source": [
    "odds_nums = nums[nums %2 ==1 ]"
   ]
  },
  {
   "cell_type": "code",
   "execution_count": 33,
   "id": "774d1ee9-9eec-4779-ac67-22b602855e1f",
   "metadata": {},
   "outputs": [
    {
     "data": {
      "text/plain": [
       "array([ 1,  3,  5,  7,  9, 11, 13, 15, 17, 19])"
      ]
     },
     "execution_count": 33,
     "metadata": {},
     "output_type": "execute_result"
    }
   ],
   "source": [
    "odds_nums"
   ]
  },
  {
   "cell_type": "code",
   "execution_count": 35,
   "id": "cb3e900f-6613-4b5d-b885-ab7b67f2471d",
   "metadata": {},
   "outputs": [
    {
     "data": {
      "text/plain": [
       "array([[ 1,  2,  3,  4,  5],\n",
       "       [ 4,  5,  6,  7,  8],\n",
       "       [ 6,  7,  8,  9, 10]])"
      ]
     },
     "execution_count": 35,
     "metadata": {},
     "output_type": "execute_result"
    }
   ],
   "source": [
    "a = np.array([[1,2,3,4,5],\n",
    "             [4,5,6,7,8],\n",
    "             [6,7,8,9,10]])\n",
    "a"
   ]
  },
  {
   "cell_type": "code",
   "execution_count": 38,
   "id": "854e0ceb-8ac6-4ecd-b3c0-30a5e74805e9",
   "metadata": {},
   "outputs": [],
   "source": [
    "b1 = a[1:3, :3]"
   ]
  },
  {
   "cell_type": "code",
   "execution_count": 39,
   "id": "56450068-12ec-461f-a6c0-ffd61e31b54d",
   "metadata": {},
   "outputs": [
    {
     "data": {
      "text/plain": [
       "array([[4, 5, 6],\n",
       "       [6, 7, 8]])"
      ]
     },
     "execution_count": 39,
     "metadata": {},
     "output_type": "execute_result"
    }
   ],
   "source": [
    "b1"
   ]
  },
  {
   "cell_type": "code",
   "execution_count": 41,
   "id": "0564544a-f0e1-404c-a499-0161e734d1db",
   "metadata": {},
   "outputs": [
    {
     "data": {
      "text/plain": [
       "array([[1, 2],\n",
       "       [3, 4],\n",
       "       [5, 6]])"
      ]
     },
     "execution_count": 41,
     "metadata": {},
     "output_type": "execute_result"
    }
   ],
   "source": [
    "b4 = np.array([1,2,3,4,5,6])\n",
    "b4.reshape(-1,2)"
   ]
  },
  {
   "cell_type": "code",
   "execution_count": null,
   "id": "9742e0f6-f1bf-42e8-9e3d-6f5123ab5007",
   "metadata": {},
   "outputs": [
    {
     "ename": "",
     "evalue": "",
     "output_type": "error",
     "traceback": [
      "\u001b[1;31mRunning cells with 'Python 3.10.11' requires the ipykernel package.\n",
      "\u001b[1;31mRun the following command to install 'ipykernel' into the Python environment. \n",
      "\u001b[1;31mCommand: 'c:/Users/hoang/AppData/Local/Programs/Python/Python310/python.exe -m pip install ipykernel -U --user --force-reinstall'"
     ]
    }
   ],
   "source": [
    "print(\"hello\")"
   ]
  },
  {
   "cell_type": "code",
   "execution_count": null,
   "id": "0ab65bb1",
   "metadata": {},
   "outputs": [],
   "source": []
  }
 ],
 "metadata": {
  "kernelspec": {
   "display_name": "Python 3 (ipykernel)",
   "language": "python",
   "name": "python3"
  },
  "language_info": {
   "codemirror_mode": {
    "name": "ipython",
    "version": 3
   },
   "file_extension": ".py",
   "mimetype": "text/x-python",
   "name": "python",
   "nbconvert_exporter": "python",
   "pygments_lexer": "ipython3",
   "version": "3.10.11"
  }
 },
 "nbformat": 4,
 "nbformat_minor": 5
}
